{
 "cells": [
  {
   "cell_type": "code",
   "execution_count": 3,
   "id": "3be1ca1f-05e2-4857-bf17-f8b09c99c461",
   "metadata": {},
   "outputs": [],
   "source": [
    "#Importing libraries\n",
    "import pandas as pd\n",
    "import numpy as np"
   ]
  },
  {
   "cell_type": "code",
   "execution_count": 2,
   "id": "e9cd8d4e-99c3-4077-8941-615a12167a83",
   "metadata": {},
   "outputs": [
    {
     "name": "stdout",
     "output_type": "stream",
     "text": [
      "Series_example:\n",
      "A    20\n",
      "B    30\n",
      "C    40\n",
      "D    55\n",
      "dtype: int64\n"
     ]
    }
   ],
   "source": [
    "#creating a Series(1 label)\n",
    "data=pd.Series([20,30,40,55], index=['A','B','C','D'])\n",
    "print(\"Series_example:\")\n",
    "print(data)\n"
   ]
  },
  {
   "cell_type": "code",
   "execution_count": 7,
   "id": "083508a4-01cf-4f54-9cec-85c6524d8a58",
   "metadata": {},
   "outputs": [
    {
     "data": {
      "text/plain": [
       "array([0, 1, 2, 3, 4, 5, 6, 7, 8, 9])"
      ]
     },
     "execution_count": 7,
     "metadata": {},
     "output_type": "execute_result"
    }
   ],
   "source": [
    "#creating an ddisplaying an array of numbers\n",
    "number_list = np.arange(0,10)\n",
    "number_list"
   ]
  },
  {
   "cell_type": "code",
   "execution_count": null,
   "id": "cdabd974-8ad0-4a0a-8166-0a67b290bd62",
   "metadata": {},
   "outputs": [],
   "source": []
  }
 ],
 "metadata": {
  "kernelspec": {
   "display_name": "Python 3 (ipykernel)",
   "language": "python",
   "name": "python3"
  },
  "language_info": {
   "codemirror_mode": {
    "name": "ipython",
    "version": 3
   },
   "file_extension": ".py",
   "mimetype": "text/x-python",
   "name": "python",
   "nbconvert_exporter": "python",
   "pygments_lexer": "ipython3",
   "version": "3.10.18"
  }
 },
 "nbformat": 4,
 "nbformat_minor": 5
}
